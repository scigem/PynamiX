{
 "cells": [
  {
   "cell_type": "markdown",
   "metadata": {},
   "source": [
    "# Convert photos of hydrogels to SEQ file"
   ]
  },
  {
   "cell_type": "code",
   "execution_count": 5,
   "metadata": {},
   "outputs": [],
   "source": [
    "import os\n",
    "import rawpy # not a dependency of pynamix - see here for installation instructions: https://github.com/letmaik/rawpy\n",
    "import skimage.color\n",
    "import numpy\n",
    "import tifffile\n",
    "import pynamix.io\n",
    "\n",
    "%matplotlib inline"
   ]
  },
  {
   "cell_type": "markdown",
   "metadata": {},
   "source": [
    "## Load data"
   ]
  },
  {
   "cell_type": "code",
   "execution_count": 6,
   "metadata": {},
   "outputs": [
    {
     "name": "stdout",
     "output_type": "stream",
     "text": [
      "Up to theta = 355\r"
     ]
    }
   ],
   "source": [
    "data_dir = '/Volumes/PGL/DCIM/102ND750/'\n",
    "prefix = 'DSC_'\n",
    "suffix = '.NEF'\n",
    "start = 1394\n",
    "stop = start + 71\n",
    "dtheta = 5\n",
    "theta = 0\n",
    "\n",
    "for i,file_number in enumerate(range(start,stop+1)):\n",
    "    path = data_dir + prefix + str(file_number) + suffix\n",
    "    with rawpy.imread(path) as raw:\n",
    "        rgb = raw.postprocess(gamma=(1,1), no_auto_bright=True, output_bps=16)\n",
    "#         gray = skimage.color.rgb2gray(rgb)\n",
    "        green = rgb[:,:,1]\n",
    "        if i == 0:\n",
    "            nfiles = stop - start + 1\n",
    "            timeseries = numpy.zeros([nfiles,green.shape[0],green.shape[1]],dtype='uint16')\n",
    "        timeseries[i] = green\n",
    "    print(f'Up to theta = {theta}', end='\\r')\n",
    "    theta += dtheta"
   ]
  },
  {
   "cell_type": "code",
   "execution_count": 7,
   "metadata": {},
   "outputs": [],
   "source": [
    "tifffile.imsave('linear.tiff', timeseries)"
   ]
  },
  {
   "cell_type": "code",
   "execution_count": 4,
   "metadata": {},
   "outputs": [],
   "source": [
    "logfile = {}\n",
    "logfile[\"detector\"] = {}\n",
    "logfile[\"detector\"][\"image_size\"] = {}\n",
    "logfile[\"detector\"][\"image_size\"][\"height\"] = timeseries.shape[1]\n",
    "logfile[\"detector\"][\"image_size\"][\"width\"] = timeseries.shape[2]\n",
    "logfile[\"detector\"][\"rotate\"] = 0 # this is probably wrong\n",
    "pynamix.io.write_seq('optical_tomograph_test', timeseries, logfile)"
   ]
  },
  {
   "cell_type": "code",
   "execution_count": 21,
   "metadata": {},
   "outputs": [],
   "source": [
    "?pynamix.io.write_seq"
   ]
  },
  {
   "cell_type": "markdown",
   "metadata": {},
   "source": [
    "# Communicate with rotating table"
   ]
  },
  {
   "cell_type": "code",
   "execution_count": 30,
   "metadata": {},
   "outputs": [],
   "source": [
    "# Step one install the library: https://github.com/libusb/hidapi#what-does-the-api-look-like\n",
    "# Step two install hid for python: https://github.com/apmorton/pyhidapi\n",
    "\n",
    "import hid\n",
    "\n",
    "vid = 0x04d8 # About This Mac -> Overview -> System Report -> USB\n",
    "pid = 0x0404\n",
    "\n",
    "angle = 10\n",
    "speed = 900\n",
    "\n",
    "with hid.Device(vid, pid) as h:\n",
    "#     print(f'Device manufacturer: {h.manufacturer}')\n",
    "#     print(f'Product: {h.product}')\n",
    "    s = f'G91G01X{angle}F{speed};'\n",
    "    h.write(bytes(bytearray(s.encode())))"
   ]
  },
  {
   "cell_type": "code",
   "execution_count": null,
   "metadata": {},
   "outputs": [],
   "source": []
  },
  {
   "cell_type": "code",
   "execution_count": null,
   "metadata": {},
   "outputs": [],
   "source": []
  },
  {
   "cell_type": "code",
   "execution_count": null,
   "metadata": {},
   "outputs": [],
   "source": []
  }
 ],
 "metadata": {
  "kernelspec": {
   "display_name": "Python 3",
   "language": "python",
   "name": "python3"
  },
  "language_info": {
   "codemirror_mode": {
    "name": "ipython",
    "version": 3
   },
   "file_extension": ".py",
   "mimetype": "text/x-python",
   "name": "python",
   "nbconvert_exporter": "python",
   "pygments_lexer": "ipython3",
   "version": "3.8.5"
  }
 },
 "nbformat": 4,
 "nbformat_minor": 4
}
