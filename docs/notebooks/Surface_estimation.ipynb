{
 "cells": [
  {
   "cell_type": "code",
   "execution_count": null,
   "id": "d36c33ad",
   "metadata": {},
   "outputs": [
    {
     "data": {
      "text/plain": [
       "[<matplotlib.lines.Line2D at 0x7fb940008f50>]"
      ]
     },
     "execution_count": 1,
     "metadata": {},
     "output_type": "execute_result"
    }
   ],
   "source": [
    "import pynamix as px\n",
    "import tifffile as tiff\n",
    "import matplotlib.pyplot as plt\n",
    "import numpy as np\n",
    "\n",
    "side=np.array(tiff.imread('SurfaceEstimation_D0.tif')) ; \n",
    "baseline = 740 #px \n",
    "scale = 25/85 #mm/px\n",
    "elevation=px.measure.surface_elevation_sideview(side, scale, baseline, threshold=-1)\n",
    "plt.imshow(side)\n",
    "plt.plot(elevation[0,:]/scale, baseline-elevation[1,:]/scale)"
   ]
  },
  {
   "cell_type": "code",
   "execution_count": null,
   "id": "86b4d3d4",
   "metadata": {},
   "outputs": [],
   "source": [
    "# Preparing the arrays for fitting\n",
    "top=np.array(tiff.imread('SurfaceEstimation_D1.tif')) ; \n",
    "top_flat=np.array(tiff.imread('SurfaceEstimation_D1_flat.tif')) ; \n",
    "scale_D1=101/440 #mm/px\n",
    "center=194+(619-194)//2\n",
    "\n",
    "#plt.imshow(top)\n",
    "#plt.plot((194+(619-194)//2)*np.ones(960), range(0, 960))\n",
    "D0_range=[134,14+32] ;\n",
    "D1_range=[12+32,810] ;\n",
    "\n",
    "#plt.plot(np.arange(0, D1_range[1]-D1_range[0])*scale_D1, np.log(top[D1_range[0]:D1_range[1],center]/top_flat[D1_range[0]:D1_range[1],center]))\n",
    "#plt.plot(elevation[0, :-D0_range[1]-D0_range[0]], -elevation[1,-D0_range[1]:D0_range[0]:-1]/50)\n",
    "\n",
    "elevation_crop=elevation[:,7:953]\n",
    "side_thickness = elevation_crop[1,-D0_range[1]:D0_range[0]:-1]\n",
    "top_absorption = top[D1_range[0]:D1_range[1],center]/top_flat[D1_range[0]:D1_range[1],center]\n",
    "\n",
    "# Fitting\n",
    "abs_coeffs = px.surface_absorption_calibration(side_thickness, top_absorption) ; \n",
    "\n",
    "plt.plot (side_thickness, np.log(top_absorption))\n",
    "plt.plot (side_thickness[:], side_thickness[:]*abs_coeffs['mu']+abs_coeffs['beta'])\n"
   ]
  },
  {
   "cell_type": "code",
   "execution_count": null,
   "id": "2fe51a44",
   "metadata": {},
   "outputs": [],
   "source": [
    "crop=[40,40+784,210,210+400]\n",
    "#I0=top_flat[crop[0]:crop[1],crop[2]:crop[3]]\n",
    "absorption_data=np.log(top[crop[0]:crop[1],crop[2]:crop[3]]/top_flat[crop[0]:crop[1],crop[2]:crop[3]])\n",
    "surface_profile=px.surface_elevation(absorption_data, abs_coeffs, 6)\n",
    "\n",
    "sz = surface_profile.shape ; \n",
    "relative_surface_profile = surface_profile / np.reshape(np.tile(np.max(surface_profile,axis=1),sz[1]),(sz[1],sz[0])).T\n",
    "\n",
    "# Matplotlib figure, nicer plotly figure in the next cell. \n",
    "fig = plt.figure()\n",
    "ax = fig.add_subplot(111, projection='3d')\n",
    "x=np.arange(0,surface_profile.shape[0])*scale_D1\n",
    "y=np.arange(0,surface_profile.shape[1])*scale_D1\n",
    "X, Y = np.meshgrid(x, y)\n",
    "ax.plot_surface(X, Y, surface_profile.T)   "
   ]
  },
  {
   "cell_type": "code",
   "execution_count": null,
   "id": "19c078a2",
   "metadata": {},
   "outputs": [],
   "source": [
    "import plotly.graph_objects as go\n",
    "fig = go.Figure(data=[\n",
    "    go.Surface(x=X, y=Y, z=surface_profile.T, surfacecolor=relative_surface_profile.T)])\n",
    "fig.update_layout(autosize=False,width=600, height=600, coloraxis=dict(cmax=1, cmin=0.7))"
   ]
  }
 ],
 "metadata": {
  "kernelspec": {
   "display_name": "Python 3 (ipykernel)",
   "language": "python",
   "name": "python3"
  },
  "language_info": {
   "codemirror_mode": {
    "name": "ipython",
    "version": 3
   },
   "file_extension": ".py",
   "mimetype": "text/x-python",
   "name": "python",
   "nbconvert_exporter": "python",
   "pygments_lexer": "ipython3",
   "version": "3.13.2"
  }
 },
 "nbformat": 4,
 "nbformat_minor": 5
}
