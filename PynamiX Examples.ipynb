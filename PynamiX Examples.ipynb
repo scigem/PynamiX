{
 "cells": [
  {
   "cell_type": "code",
   "execution_count": null,
   "metadata": {},
   "outputs": [],
   "source": [
    "import numpy as np\n",
    "import matplotlib.pyplot as plt\n",
    "from pynamix import io, data, measure, color"
   ]
  },
  {
   "cell_type": "markdown",
   "metadata": {},
   "source": [
    "# Load example data"
   ]
  },
  {
   "cell_type": "code",
   "execution_count": null,
   "metadata": {},
   "outputs": [],
   "source": [
    "# ims, logfile = data.radiographs() # load built in test data\n",
    "im, logfile = io.load_seq('/Users/benjymarks/Dropbox/Research/Experiments/DynamiX/Marta/MartaTest1-D1_downsampled.seq') # load your own data\n",
    "save_as_tiffs('tt',ims,tmin=1000,tmax=1050,tstep=10) # save some of the SEQ file as tiffs in a folder `tt`"
   ]
  },
  {
   "cell_type": "markdown",
   "metadata": {},
   "source": [
    "# Calculate size and orientation fields"
   ]
  },
  {
   "cell_type": "code",
   "execution_count": null,
   "metadata": {},
   "outputs": [],
   "source": [
    "virino = color.virino()\n",
    "orient, dzeta = measure.orientation_map(ims,start=1000,end=1002)\n",
    "size = measure.size_map(ims,start=1000,end=1002)\n",
    "\n",
    "plt.subplot(131)\n",
    "plt.imshow(data[1000])\n",
    "plt.subplot(132)\n",
    "plt.pcolormesh(orient[:,:,0],cmap=virino)\n",
    "plt.colorbar()\n",
    "plt.subplot(133)\n",
    "plt.pcolormesh(size[:,:,0])\n",
    "plt.colorbar()\n",
    "plt.show()"
   ]
  },
  {
   "cell_type": "markdown",
   "metadata": {},
   "source": []
  },
  {
   "cell_type": "code",
   "execution_count": null,
   "metadata": {},
   "outputs": [],
   "source": []
  }
 ],
 "metadata": {
  "kernelspec": {
   "display_name": "Python [default]",
   "language": "python",
   "name": "python3"
  },
  "language_info": {
   "codemirror_mode": {
    "name": "ipython",
    "version": 3
   },
   "file_extension": ".py",
   "mimetype": "text/x-python",
   "name": "python",
   "nbconvert_exporter": "python",
   "pygments_lexer": "ipython3",
   "version": "3.5.6"
  }
 },
 "nbformat": 4,
 "nbformat_minor": 2
}
