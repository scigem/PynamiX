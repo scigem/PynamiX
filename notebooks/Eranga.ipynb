{
 "cells": [
  {
   "cell_type": "markdown",
   "metadata": {},
   "source": [
    "# Calculate bidisperse concentration field"
   ]
  },
  {
   "cell_type": "code",
   "execution_count": null,
   "metadata": {},
   "outputs": [],
   "source": [
    "import numpy as np\n",
    "import matplotlib.pyplot as plt\n",
    "from pynamix import io, data, measure, color, plotting, exposure\n",
    "%matplotlib notebook"
   ]
  },
  {
   "cell_type": "markdown",
   "metadata": {},
   "source": [
    "## Load example data"
   ]
  },
  {
   "cell_type": "code",
   "execution_count": null,
   "metadata": {},
   "outputs": [],
   "source": [
    "phi = 0.3\n",
    "ims, logfile = io.load_radio_txtfiles('/Volumes/LTS/Eranga/txt/' + str(phi) + '/',tmin=20)\n",
    "logfile['detector'] = {}\n",
    "logfile['detector']['resolution'] = 20 # px/mm - set in ForwardProjector"
   ]
  },
  {
   "cell_type": "markdown",
   "metadata": {},
   "source": [
    "## Apply an ROI to remove weird external box from James's data"
   ]
  },
  {
   "cell_type": "code",
   "execution_count": null,
   "metadata": {},
   "outputs": [],
   "source": [
    "print(ims.shape)\n",
    "ims, logfile = exposure.apply_ROI(ims,\n",
    "                                  logfile,\n",
    "                                  left=10,\n",
    "                                  top=10\n",
    "                                 )\n",
    "print(ims.shape)\n",
    "plt.imshow(ims[0])\n",
    "plt.colorbar()\n",
    "plt.show()"
   ]
  },
  {
   "cell_type": "markdown",
   "metadata": {},
   "source": [
    "## Get bidisperse values"
   ]
  },
  {
   "cell_type": "code",
   "execution_count": null,
   "metadata": {},
   "outputs": [],
   "source": [
    "X, Y, peak_fraction, wavelength, radialspec = measure.bidisperse_concentration_map(ims,\n",
    "                                                                                   logfile,\n",
    "                                                                                   s_a=0.5,\n",
    "                                                                                   s_b=1.0,\n",
    "                                                                                   pad=1.2,\n",
    "                                                                                   return_FFTs=True,\n",
    "                                                                                   patchw=128,\n",
    "                                                                                   tmax=10\n",
    "                                                                                  )"
   ]
  },
  {
   "cell_type": "markdown",
   "metadata": {},
   "source": [
    "## Plot peak fraction"
   ]
  },
  {
   "cell_type": "code",
   "execution_count": null,
   "metadata": {},
   "outputs": [],
   "source": [
    "plt.pcolormesh(X,Y,np.mean(peak_fraction,axis=0))\n",
    "plt.colorbar()\n",
    "plt.show()"
   ]
  },
  {
   "cell_type": "markdown",
   "metadata": {},
   "source": [
    "## Investigate wavelength decomposition"
   ]
  },
  {
   "cell_type": "code",
   "execution_count": null,
   "metadata": {},
   "outputs": [],
   "source": [
    "plt.clf()\n",
    "# %matplotlib notebook\n",
    "%matplotlib inline\n",
    "\n",
    "nt,nx,ny,_ = radialspec.shape\n",
    "for t in range(nt):\n",
    "    for x in range(nx):\n",
    "        for y in range(ny):\n",
    "            plt.semilogx(wavelength,radialspec[t,x,y],'k.',alpha=0.002)\n",
    "\n",
    "mean_rad = np.mean(radialspec,axis=(0,1,2))\n",
    "std_rad  =  np.std(radialspec,axis=(0,1,2))\n",
    "plt.fill_between(wavelength,mean_rad-std_rad,mean_rad+std_rad)\n",
    "plt.plot(wavelength,mean_rad,'ro')\n",
    "\n",
    "plt.xlim(xmax=10)\n",
    "plt.show()"
   ]
  },
  {
   "cell_type": "markdown",
   "metadata": {},
   "source": [
    "## Do everything in one go"
   ]
  },
  {
   "cell_type": "code",
   "execution_count": null,
   "metadata": {},
   "outputs": [],
   "source": [
    "%matplotlib inline\n",
    "\n",
    "import time\n",
    "time.sleep(5000)\n",
    "\n",
    "for phi in [0,0.1,0.2,0.3,0.4,0.5,0.6,0.7,0.8,0.9,1]:\n",
    "    ims, logfile = io.load_radio_txtfiles('/Volumes/LTS/Eranga/txt/' + str(phi) + '/',tmin=20)\n",
    "    logfile['detector'] = {}\n",
    "    logfile['detector']['resolution'] = 20 # px/mm - set in ForwardProjector\n",
    "\n",
    "    ims, logfile = exposure.apply_ROI(ims,\n",
    "                                      logfile,\n",
    "                                      left=10,\n",
    "                                      top=10\n",
    "                                     )\n",
    "\n",
    "    X, Y, peak_fraction, wavelength, radialspec = measure.bidisperse_concentration_map(ims,\n",
    "                                                                                       logfile,\n",
    "                                                                                       s_a=0.5,\n",
    "                                                                                       s_b=1.0,\n",
    "                                                                                       pad=1.2,\n",
    "                                                                                       return_FFTs=True,\n",
    "                                                                                       patchw=128, # 256 pixel patches - 12.8mm\n",
    "                                                                                       tmax=2\n",
    "                                                                                      )\n",
    "\n",
    "    plt.pcolormesh(X,Y,np.mean(peak_fraction,axis=0))\n",
    "    plt.colorbar()\n",
    "    plt.savefig('peak_fraction_averaged_phi_' + str(phi) + '.png',dpi=200)\n",
    "#     plt.show()\n",
    "\n",
    "    plt.clf()\n",
    "\n",
    "    nt,nx,ny,_ = radialspec.shape\n",
    "    for t in range(nt):\n",
    "        for x in range(nx):\n",
    "            for y in range(ny):\n",
    "                plt.semilogx(wavelength,radialspec[t,x,y],'k.',alpha=0.002)\n",
    "\n",
    "    mean_rad = np.mean(radialspec,axis=(0,1,2))\n",
    "    std_rad  =  np.std(radialspec,axis=(0,1,2))\n",
    "    plt.fill_between(wavelength,mean_rad-std_rad,mean_rad+std_rad)\n",
    "    plt.plot(wavelength,mean_rad,'ro')\n",
    "\n",
    "    plt.xlim(xmax=10)\n",
    "#     plt.show()\n",
    "    plt.savefig('wavelengths_phi_' + str(phi) + '.png',dpi=200)\n",
    "\n",
    "    print('Done ' + str(phi))"
   ]
  },
  {
   "cell_type": "code",
   "execution_count": null,
   "metadata": {},
   "outputs": [],
   "source": []
  }
 ],
 "metadata": {
  "kernelspec": {
   "display_name": "Python 3",
   "language": "python",
   "name": "python3"
  },
  "language_info": {
   "codemirror_mode": {
    "name": "ipython",
    "version": 3
   },
   "file_extension": ".py",
   "mimetype": "text/x-python",
   "name": "python",
   "nbconvert_exporter": "python",
   "pygments_lexer": "ipython3",
   "version": "3.7.5"
  }
 },
 "nbformat": 4,
 "nbformat_minor": 4
}
